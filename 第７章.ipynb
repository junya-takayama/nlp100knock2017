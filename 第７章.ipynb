{
 "cells": [
  {
   "cell_type": "code",
   "execution_count": 1,
   "metadata": {
    "collapsed": true
   },
   "outputs": [],
   "source": [
    "import c7utils"
   ]
  },
  {
   "cell_type": "code",
   "execution_count": 2,
   "metadata": {
    "collapsed": true
   },
   "outputs": [],
   "source": [
    "search = c7utils.RedisSearch()"
   ]
  },
  {
   "cell_type": "code",
   "execution_count": 7,
   "metadata": {},
   "outputs": [
    {
     "name": "stdout",
     "output_type": "stream",
     "text": [
      "loading...921336/921336\t経過9.323599815368652秒\tあと1.0119652130567624e-05秒\n",
      "registering to DB...\n",
      "\u001b[92mDone.\n"
     ]
    }
   ],
   "source": [
    "%run -i c7p60.py"
   ]
  },
  {
   "cell_type": "code",
   "execution_count": 511,
   "metadata": {},
   "outputs": [
    {
     "name": "stdout",
     "output_type": "stream",
     "text": [
      "artist: Queen\n",
      "area:  United Kingdom\n"
     ]
    }
   ],
   "source": [
    "%run -i c7p61.py"
   ]
  },
  {
   "cell_type": "code",
   "execution_count": 39,
   "metadata": {},
   "outputs": [
    {
     "name": "stdout",
     "output_type": "stream",
     "text": [
      "Japanの頻度： 22128\n"
     ]
    }
   ],
   "source": [
    "%run -i c7p62.py"
   ]
  },
  {
   "cell_type": "code",
   "execution_count": 12,
   "metadata": {
    "scrolled": true
   },
   "outputs": [
    {
     "name": "stdout",
     "output_type": "stream",
     "text": [
      "loading...921336/921336\t経過8.410310983657837秒\tあと9.128386368987902e-06秒\n",
      "registering to DB...\n",
      "\u001b[92mDone.\n"
     ]
    }
   ],
   "source": [
    "%run -i c7p63.py"
   ]
  },
  {
   "cell_type": "code",
   "execution_count": 5,
   "metadata": {},
   "outputs": [
    {
     "name": "stdout",
     "output_type": "stream",
     "text": [
      "keyword: Infester\n",
      "\tdeath metal (1)\n",
      "\tamerican (1)\n"
     ]
    }
   ],
   "source": [
    "search.search_tags(\"Infester\")"
   ]
  },
  {
   "cell_type": "code",
   "execution_count": 28,
   "metadata": {},
   "outputs": [
    {
     "name": "stdout",
     "output_type": "stream",
     "text": [
      "registering to DB...921336/921336\t経過317.4189119338989秒\tあと0.00034452025312578575秒\n",
      "\u001b[92mDone.\n"
     ]
    }
   ],
   "source": [
    "%run -i c7p64.py"
   ]
  },
  {
   "cell_type": "code",
   "execution_count": 46,
   "metadata": {},
   "outputs": [
    {
     "name": "stdout",
     "output_type": "stream",
     "text": [
      "{'_id': ObjectId('59b6ee69cd3d2a28d845db3b'),\n",
      " 'aliases': [{'name': 'Queen', 'sort_name': 'Queen'}],\n",
      " 'area': 'Japan',\n",
      " 'ended': True,\n",
      " 'gender': 'Female',\n",
      " 'gid': '420ca290-76c5-41af-999e-564d7c71f1a7',\n",
      " 'id': 701492,\n",
      " 'name': 'Queen',\n",
      " 'sort_name': 'Queen',\n",
      " 'tags': [{'count': 1, 'value': 'kamen rider w'},\n",
      "          {'count': 1, 'value': 'related-akb48'}],\n",
      " 'type': 'Character'}\n",
      "{'_id': ObjectId('59b6ee7bcd3d2a28d846a1e7'),\n",
      " 'aliases': [{'name': '女王', 'sort_name': '女王'}],\n",
      " 'area': 'United Kingdom',\n",
      " 'begin': {'date': 27, 'month': 6, 'year': 1970},\n",
      " 'ended': True,\n",
      " 'gid': '0383dadf-2a4e-4d10-a46a-e9e041da8eb3',\n",
      " 'id': 192,\n",
      " 'name': 'Queen',\n",
      " 'rating': {'count': 24, 'value': 92},\n",
      " 'sort_name': 'Queen',\n",
      " 'tags': [{'count': 2, 'value': 'hard rock'},\n",
      "          {'count': 1, 'value': '70s'},\n",
      "          {'count': 1, 'value': 'queen family'},\n",
      "          {'count': 1, 'value': '90s'},\n",
      "          {'count': 1, 'value': '80s'},\n",
      "          {'count': 1, 'value': 'glam rock'},\n",
      "          {'count': 4, 'value': 'british'},\n",
      "          {'count': 1, 'value': 'english'},\n",
      "          {'count': 2, 'value': 'uk'},\n",
      "          {'count': 1, 'value': 'pop/rock'},\n",
      "          {'count': 1, 'value': 'pop-rock'},\n",
      "          {'count': 1, 'value': 'britannique'},\n",
      "          {'count': 1, 'value': 'classic pop and rock'},\n",
      "          {'count': 1, 'value': 'queen'},\n",
      "          {'count': 1, 'value': 'united kingdom'},\n",
      "          {'count': 1, 'value': 'langham 1 studio bbc'},\n",
      "          {'count': 1, 'value': 'kind of magic'},\n",
      "          {'count': 1, 'value': 'band'},\n",
      "          {'count': 6, 'value': 'rock'},\n",
      "          {'count': 1, 'value': 'platinum'}],\n",
      " 'type': 'Group'}\n",
      "{'_id': ObjectId('59b6eea2cd3d2a28d8485c3f'),\n",
      " 'ended': True,\n",
      " 'gid': '5eecaf18-02ec-47af-a4f2-7831db373419',\n",
      " 'id': 992994,\n",
      " 'name': 'Queen',\n",
      " 'sort_name': 'Queen'}\n"
     ]
    }
   ],
   "source": [
    "%run -i c7p65.py"
   ]
  },
  {
   "cell_type": "code",
   "execution_count": 47,
   "metadata": {},
   "outputs": [
    {
     "name": "stdout",
     "output_type": "stream",
     "text": [
      "Japanの頻度： 22821\n"
     ]
    }
   ],
   "source": [
    "%run -i c7p66.py"
   ]
  },
  {
   "cell_type": "code",
   "execution_count": 525,
   "metadata": {},
   "outputs": [
    {
     "name": "stdout",
     "output_type": "stream",
     "text": [
      "{'_id': ObjectId('59b6ee7bcd3d2a28d846a1e7'),\n",
      " 'aliases': [{'name': '女王', 'sort_name': '女王'}],\n",
      " 'area': 'United Kingdom',\n",
      " 'begin': {'date': 27, 'month': 6, 'year': 1970},\n",
      " 'ended': True,\n",
      " 'gid': '0383dadf-2a4e-4d10-a46a-e9e041da8eb3',\n",
      " 'id': 192,\n",
      " 'name': 'Queen',\n",
      " 'rating': {'count': 24, 'value': 92},\n",
      " 'sort_name': 'Queen',\n",
      " 'tags': [{'count': 2, 'value': 'hard rock'},\n",
      "          {'count': 1, 'value': '70s'},\n",
      "          {'count': 1, 'value': 'queen family'},\n",
      "          {'count': 1, 'value': '90s'},\n",
      "          {'count': 1, 'value': '80s'},\n",
      "          {'count': 1, 'value': 'glam rock'},\n",
      "          {'count': 4, 'value': 'british'},\n",
      "          {'count': 1, 'value': 'english'},\n",
      "          {'count': 2, 'value': 'uk'},\n",
      "          {'count': 1, 'value': 'pop/rock'},\n",
      "          {'count': 1, 'value': 'pop-rock'},\n",
      "          {'count': 1, 'value': 'britannique'},\n",
      "          {'count': 1, 'value': 'classic pop and rock'},\n",
      "          {'count': 1, 'value': 'queen'},\n",
      "          {'count': 1, 'value': 'united kingdom'},\n",
      "          {'count': 1, 'value': 'langham 1 studio bbc'},\n",
      "          {'count': 1, 'value': 'kind of magic'},\n",
      "          {'count': 1, 'value': 'band'},\n",
      "          {'count': 6, 'value': 'rock'},\n",
      "          {'count': 1, 'value': 'platinum'}],\n",
      " 'type': 'Group'}\n"
     ]
    }
   ],
   "source": [
    "%run -i c7p67.py 女王"
   ]
  },
  {
   "cell_type": "code",
   "execution_count": 523,
   "metadata": {},
   "outputs": [
    {
     "data": {
      "text/html": [
       "<div>\n",
       "<style>\n",
       "    .dataframe thead tr:only-child th {\n",
       "        text-align: right;\n",
       "    }\n",
       "\n",
       "    .dataframe thead th {\n",
       "        text-align: left;\n",
       "    }\n",
       "\n",
       "    .dataframe tbody tr th {\n",
       "        vertical-align: top;\n",
       "    }\n",
       "</style>\n",
       "<table border=\"1\" class=\"dataframe\">\n",
       "  <thead>\n",
       "    <tr style=\"text-align: right;\">\n",
       "      <th></th>\n",
       "      <th>name</th>\n",
       "      <th>rating</th>\n",
       "    </tr>\n",
       "  </thead>\n",
       "  <tbody>\n",
       "    <tr>\n",
       "      <th>0</th>\n",
       "      <td>Madonna</td>\n",
       "      <td>88</td>\n",
       "    </tr>\n",
       "    <tr>\n",
       "      <th>1</th>\n",
       "      <td>Björk</td>\n",
       "      <td>84</td>\n",
       "    </tr>\n",
       "    <tr>\n",
       "      <th>2</th>\n",
       "      <td>The Prodigy</td>\n",
       "      <td>90</td>\n",
       "    </tr>\n",
       "    <tr>\n",
       "      <th>3</th>\n",
       "      <td>Rihanna</td>\n",
       "      <td>68</td>\n",
       "    </tr>\n",
       "    <tr>\n",
       "      <th>4</th>\n",
       "      <td>Britney Spears</td>\n",
       "      <td>83</td>\n",
       "    </tr>\n",
       "    <tr>\n",
       "      <th>5</th>\n",
       "      <td>Maroon 5</td>\n",
       "      <td>60</td>\n",
       "    </tr>\n",
       "    <tr>\n",
       "      <th>6</th>\n",
       "      <td>Adam Lambert</td>\n",
       "      <td>100</td>\n",
       "    </tr>\n",
       "    <tr>\n",
       "      <th>7</th>\n",
       "      <td>Fatboy Slim</td>\n",
       "      <td>77</td>\n",
       "    </tr>\n",
       "    <tr>\n",
       "      <th>8</th>\n",
       "      <td>Basement Jaxx</td>\n",
       "      <td>83</td>\n",
       "    </tr>\n",
       "    <tr>\n",
       "      <th>9</th>\n",
       "      <td>Cornershop</td>\n",
       "      <td>68</td>\n",
       "    </tr>\n",
       "  </tbody>\n",
       "</table>\n",
       "</div>"
      ],
      "text/plain": [
       "             name  rating\n",
       "0         Madonna      88\n",
       "1           Björk      84\n",
       "2     The Prodigy      90\n",
       "3         Rihanna      68\n",
       "4  Britney Spears      83\n",
       "5        Maroon 5      60\n",
       "6    Adam Lambert     100\n",
       "7     Fatboy Slim      77\n",
       "8   Basement Jaxx      83\n",
       "9      Cornershop      68"
      ]
     },
     "metadata": {},
     "output_type": "display_data"
    }
   ],
   "source": [
    "%run -i c7p68.py"
   ]
  },
  {
   "cell_type": "markdown",
   "metadata": {},
   "source": [
    "<hr>\n",
    "69番は\n",
    "python c7p69.pyしたあとlocalhost:5000にアクセス\n",
    "\n",
    "<img src=\"interface.png\" width=\"400\" align=\"left\">"
   ]
  },
  {
   "cell_type": "code",
   "execution_count": null,
   "metadata": {
    "collapsed": true
   },
   "outputs": [],
   "source": []
  }
 ],
 "metadata": {
  "kernelspec": {
   "display_name": "Python 3",
   "language": "python",
   "name": "python3"
  },
  "language_info": {
   "codemirror_mode": {
    "name": "ipython",
    "version": 3
   },
   "file_extension": ".py",
   "mimetype": "text/x-python",
   "name": "python",
   "nbconvert_exporter": "python",
   "pygments_lexer": "ipython3",
   "version": "3.6.0"
  }
 },
 "nbformat": 4,
 "nbformat_minor": 2
}
