{
 "cells": [
  {
   "cell_type": "code",
   "execution_count": 26,
   "metadata": {},
   "outputs": [
    {
     "name": "stdout",
     "output_type": "stream",
     "text": [
      "[[{'base': '一', 'freq': 554, 'pos': '名詞', 'pos1': '数', 'surface': '一'}],\n",
      " [{'base': '\\u3000', 'freq': 411, 'pos': '空白', 'pos1': '*', 'surface': '記号'},\n",
      "  {'base': '吾輩', 'freq': 481, 'pos': '名詞', 'pos1': '代名詞', 'surface': '吾輩'},\n",
      "  {'base': 'は', 'freq': 6420, 'pos': '助詞', 'pos1': '係助詞', 'surface': 'は'},\n",
      "  {'base': '猫', 'freq': 248, 'pos': '名詞', 'pos1': '一般', 'surface': '猫'},\n",
      "  {'base': 'だ', 'freq': 1719, 'pos': '助動詞', 'pos1': '*', 'surface': 'で'},\n",
      "  {'base': 'ある', 'freq': 995, 'pos': '助動詞', 'pos1': '*', 'surface': 'ある'},\n",
      "  {'base': '。', 'freq': 7486, 'pos': '記号', 'pos1': '句点', 'surface': '。'}],\n",
      " [{'base': '名前', 'freq': 47, 'pos': '名詞', 'pos1': '一般', 'surface': '名前'},\n",
      "  {'base': 'は', 'freq': 6420, 'pos': '助詞', 'pos1': '係助詞', 'surface': 'は'},\n",
      "  {'base': 'まだ', 'freq': 115, 'pos': '副詞', 'pos1': '助詞類接続', 'surface': 'まだ'},\n",
      "  {'base': '無い', 'freq': 17, 'pos': '形容詞', 'pos1': '自立', 'surface': '無い'},\n",
      "  {'base': '。', 'freq': 7486, 'pos': '記号', 'pos1': '句点', 'surface': '。'}],\n",
      " [{'base': '\\u3000', 'freq': 411, 'pos': '空白', 'pos1': '*', 'surface': '記号'},\n",
      "  {'base': 'どこ', 'freq': 118, 'pos': '名詞', 'pos1': '代名詞', 'surface': 'どこ'},\n",
      "  {'base': 'で', 'freq': 1646, 'pos': '助詞', 'pos1': '格助詞', 'surface': 'で'},\n",
      "  {'base': '生れる', 'freq': 29, 'pos': '動詞', 'pos1': '自立', 'surface': '生れ'},\n",
      "  {'base': 'た', 'freq': 3975, 'pos': '助動詞', 'pos1': '*', 'surface': 'た'},\n",
      "  {'base': 'か',\n",
      "   'freq': 1529,\n",
      "   'pos': '助詞',\n",
      "   'pos1': '副助詞／並立助詞／終助詞',\n",
      "   'surface': 'か'},\n",
      "  {'base': 'とんと', 'freq': 6, 'pos': '副詞', 'pos1': '一般', 'surface': 'とんと'},\n",
      "  {'base': '見当', 'freq': 13, 'pos': '名詞', 'pos1': 'サ変接続', 'surface': '見当'},\n",
      "  {'base': 'が', 'freq': 4196, 'pos': '助詞', 'pos1': '格助詞', 'surface': 'が'},\n",
      "  {'base': 'つく', 'freq': 27, 'pos': '動詞', 'pos1': '自立', 'surface': 'つか'},\n",
      "  {'base': 'ぬ', 'freq': 275, 'pos': '助動詞', 'pos1': '*', 'surface': 'ぬ'},\n",
      "  {'base': '。', 'freq': 7486, 'pos': '記号', 'pos1': '句点', 'surface': '。'}],\n",
      " [{'base': '何', 'freq': 498, 'pos': '名詞', 'pos1': '代名詞', 'surface': '何'},\n",
      "  {'base': 'でも', 'freq': 337, 'pos': '助詞', 'pos1': '副助詞', 'surface': 'でも'},\n",
      "  {'base': '薄暗い', 'freq': 1, 'pos': '形容詞', 'pos1': '自立', 'surface': '薄暗い'},\n",
      "  {'base': 'じめじめ', 'freq': 1, 'pos': '副詞', 'pos1': '一般', 'surface': 'じめじめ'},\n",
      "  {'base': 'する', 'freq': 2049, 'pos': '動詞', 'pos1': '自立', 'surface': 'し'},\n",
      "  {'base': 'た', 'freq': 3975, 'pos': '助動詞', 'pos1': '*', 'surface': 'た'},\n",
      "  {'base': '所', 'freq': 110, 'pos': '名詞', 'pos1': '非自立', 'surface': '所'},\n",
      "  {'base': 'で', 'freq': 1646, 'pos': '助詞', 'pos1': '格助詞', 'surface': 'で'},\n",
      "  {'base': '*', 'freq': 2, 'pos': '名詞', 'pos1': '一般', 'surface': 'ニャーニャー'},\n",
      "  {'base': '泣く', 'freq': 12, 'pos': '動詞', 'pos1': '自立', 'surface': '泣い'},\n",
      "  {'base': 'て', 'freq': 6812, 'pos': '助詞', 'pos1': '接続助詞', 'surface': 'て'},\n",
      "  {'base': 'いた事', 'freq': 4, 'pos': '名詞', 'pos1': '一般', 'surface': 'いた事'},\n",
      "  {'base': 'だけ', 'freq': 246, 'pos': '助詞', 'pos1': '副助詞', 'surface': 'だけ'},\n",
      "  {'base': 'は', 'freq': 6420, 'pos': '助詞', 'pos1': '係助詞', 'surface': 'は'},\n",
      "  {'base': '記憶', 'freq': 22, 'pos': '名詞', 'pos1': 'サ変接続', 'surface': '記憶'},\n",
      "  {'base': 'する', 'freq': 2049, 'pos': '動詞', 'pos1': '自立', 'surface': 'し'},\n",
      "  {'base': 'て', 'freq': 6812, 'pos': '助詞', 'pos1': '接続助詞', 'surface': 'て'},\n",
      "  {'base': 'いる', 'freq': 1165, 'pos': '動詞', 'pos1': '非自立', 'surface': 'いる'},\n",
      "  {'base': '。', 'freq': 7486, 'pos': '記号', 'pos1': '句点', 'surface': '。'}],\n",
      " [{'base': '吾輩', 'freq': 481, 'pos': '名詞', 'pos1': '代名詞', 'surface': '吾輩'},\n",
      "  {'base': 'は', 'freq': 6420, 'pos': '助詞', 'pos1': '係助詞', 'surface': 'は'},\n",
      "  {'base': 'ここ', 'freq': 96, 'pos': '名詞', 'pos1': '代名詞', 'surface': 'ここ'},\n",
      "  {'base': 'で', 'freq': 1646, 'pos': '助詞', 'pos1': '格助詞', 'surface': 'で'},\n",
      "  {'base': '始める', 'freq': 26, 'pos': '動詞', 'pos1': '自立', 'surface': '始め'},\n",
      "  {'base': 'て', 'freq': 6812, 'pos': '助詞', 'pos1': '接続助詞', 'surface': 'て'},\n",
      "  {'base': '人間', 'freq': 272, 'pos': '名詞', 'pos1': '一般', 'surface': '人間'},\n",
      "  {'base': 'という', 'freq': 116, 'pos': '助詞', 'pos1': '格助詞', 'surface': 'という'},\n",
      "  {'base': 'もの', 'freq': 978, 'pos': '名詞', 'pos1': '非自立', 'surface': 'もの'},\n",
      "  {'base': 'を', 'freq': 6071, 'pos': '助詞', 'pos1': '格助詞', 'surface': 'を'},\n",
      "  {'base': '見る', 'freq': 331, 'pos': '動詞', 'pos1': '自立', 'surface': '見'},\n",
      "  {'base': 'た', 'freq': 3975, 'pos': '助動詞', 'pos1': '*', 'surface': 'た'},\n",
      "  {'base': '。', 'freq': 7486, 'pos': '記号', 'pos1': '句点', 'surface': '。'}],\n",
      " [{'base': 'しかも', 'freq': 30, 'pos': '接続詞', 'pos1': '*', 'surface': 'しかも'},\n",
      "  {'base': 'あと', 'freq': 64, 'pos': '名詞', 'pos1': '一般', 'surface': 'あと'},\n",
      "  {'base': 'で', 'freq': 1646, 'pos': '助詞', 'pos1': '格助詞', 'surface': 'で'},\n",
      "  {'base': '聞く', 'freq': 106, 'pos': '動詞', 'pos1': '自立', 'surface': '聞く'},\n",
      "  {'base': 'と', 'freq': 1029, 'pos': '助詞', 'pos1': '接続助詞', 'surface': 'と'},\n",
      "  {'base': 'それ', 'freq': 381, 'pos': '名詞', 'pos1': '代名詞', 'surface': 'それ'},\n",
      "  {'base': 'は', 'freq': 6420, 'pos': '助詞', 'pos1': '係助詞', 'surface': 'は'},\n",
      "  {'base': '書生', 'freq': 35, 'pos': '名詞', 'pos1': '一般', 'surface': '書生'},\n",
      "  {'base': 'という', 'freq': 116, 'pos': '助詞', 'pos1': '格助詞', 'surface': 'という'},\n",
      "  {'base': '人間', 'freq': 272, 'pos': '名詞', 'pos1': '一般', 'surface': '人間'},\n",
      "  {'base': '中', 'freq': 58, 'pos': '名詞', 'pos1': '接尾', 'surface': '中'},\n",
      "  {'base': 'で', 'freq': 1646, 'pos': '助詞', 'pos1': '格助詞', 'surface': 'で'},\n",
      "  {'base': '一番', 'freq': 35, 'pos': '名詞', 'pos1': '副詞可能', 'surface': '一番'},\n",
      "  {'base': '獰悪', 'freq': 1, 'pos': '名詞', 'pos1': '形容動詞語幹', 'surface': '獰悪'},\n",
      "  {'base': 'だ', 'freq': 1288, 'pos': '助動詞', 'pos1': '*', 'surface': 'な'},\n",
      "  {'base': '種族', 'freq': 2, 'pos': '名詞', 'pos1': '一般', 'surface': '種族'},\n",
      "  {'base': 'だ', 'freq': 1719, 'pos': '助動詞', 'pos1': '*', 'surface': 'で'},\n",
      "  {'base': 'ある', 'freq': 74, 'pos': '助動詞', 'pos1': '*', 'surface': 'あっ'},\n",
      "  {'base': 'た', 'freq': 3975, 'pos': '助動詞', 'pos1': '*', 'surface': 'た'},\n",
      "  {'base': 'そう', 'freq': 121, 'pos': '名詞', 'pos1': '特殊', 'surface': 'そう'},\n",
      "  {'base': 'だ', 'freq': 2208, 'pos': '助動詞', 'pos1': '*', 'surface': 'だ'},\n",
      "  {'base': '。', 'freq': 7486, 'pos': '記号', 'pos1': '句点', 'surface': '。'}],\n",
      " [{'base': 'この', 'freq': 649, 'pos': '連体詞', 'pos1': '*', 'surface': 'この'},\n",
      "  {'base': '書生', 'freq': 35, 'pos': '名詞', 'pos1': '一般', 'surface': '書生'},\n",
      "  {'base': 'という', 'freq': 116, 'pos': '助詞', 'pos1': '格助詞', 'surface': 'という'},\n",
      "  {'base': 'の', 'freq': 1611, 'pos': '名詞', 'pos1': '非自立', 'surface': 'の'},\n",
      "  {'base': 'は', 'freq': 6420, 'pos': '助詞', 'pos1': '係助詞', 'surface': 'は'},\n",
      "  {'base': '時々', 'freq': 38, 'pos': '副詞', 'pos1': '一般', 'surface': '時々'},\n",
      "  {'base': '我々', 'freq': 7, 'pos': '名詞', 'pos1': '代名詞', 'surface': '我々'},\n",
      "  {'base': 'を', 'freq': 6071, 'pos': '助詞', 'pos1': '格助詞', 'surface': 'を'},\n",
      "  {'base': '捕える', 'freq': 6, 'pos': '動詞', 'pos1': '自立', 'surface': '捕え'},\n",
      "  {'base': 'て', 'freq': 6812, 'pos': '助詞', 'pos1': '接続助詞', 'surface': 'て'},\n",
      "  {'base': '煮る', 'freq': 9, 'pos': '動詞', 'pos1': '自立', 'surface': '煮'},\n",
      "  {'base': 'て', 'freq': 6812, 'pos': '助詞', 'pos1': '接続助詞', 'surface': 'て'},\n",
      "  {'base': '食う', 'freq': 39, 'pos': '動詞', 'pos1': '自立', 'surface': '食う'},\n",
      "  {'base': 'という', 'freq': 116, 'pos': '助詞', 'pos1': '格助詞', 'surface': 'という'},\n",
      "  {'base': '話', 'freq': 75, 'pos': '名詞', 'pos1': 'サ変接続', 'surface': '話'},\n",
      "  {'base': 'だ', 'freq': 1719, 'pos': '助動詞', 'pos1': '*', 'surface': 'で'},\n",
      "  {'base': 'ある', 'freq': 995, 'pos': '助動詞', 'pos1': '*', 'surface': 'ある'},\n",
      "  {'base': '。', 'freq': 7486, 'pos': '記号', 'pos1': '句点', 'surface': '。'}],\n",
      " [{'base': 'しかし', 'freq': 185, 'pos': '接続詞', 'pos1': '*', 'surface': 'しかし'},\n",
      "  {'base': 'その', 'freq': 576, 'pos': '連体詞', 'pos1': '*', 'surface': 'その'},\n",
      "  {'base': '当時', 'freq': 17, 'pos': '名詞', 'pos1': '副詞可能', 'surface': '当時'},\n",
      "  {'base': 'は', 'freq': 6420, 'pos': '助詞', 'pos1': '係助詞', 'surface': 'は'},\n",
      "  {'base': '何', 'freq': 498, 'pos': '名詞', 'pos1': '代名詞', 'surface': '何'},\n",
      "  {'base': 'という', 'freq': 116, 'pos': '助詞', 'pos1': '格助詞', 'surface': 'という'},\n",
      "  {'base': '考', 'freq': 29, 'pos': '名詞', 'pos1': '一般', 'surface': '考'},\n",
      "  {'base': 'も', 'freq': 2479, 'pos': '助詞', 'pos1': '係助詞', 'surface': 'も'},\n",
      "  {'base': 'ない', 'freq': 35, 'pos': '形容詞', 'pos1': '自立', 'surface': 'なかっ'},\n",
      "  {'base': 'た', 'freq': 3975, 'pos': '助動詞', 'pos1': '*', 'surface': 'た'},\n",
      "  {'base': 'から', 'freq': 1186, 'pos': '助詞', 'pos1': '接続助詞', 'surface': 'から'},\n",
      "  {'base': '別段', 'freq': 29, 'pos': '副詞', 'pos1': '助詞類接続', 'surface': '別段'},\n",
      "  {'base': '恐い', 'freq': 4, 'pos': '形容詞', 'pos1': '自立', 'surface': '恐し'},\n",
      "  {'base': 'いとも', 'freq': 1, 'pos': '副詞', 'pos1': '一般', 'surface': 'いとも'},\n",
      "  {'base': '思う', 'freq': 66, 'pos': '動詞', 'pos1': '自立', 'surface': '思わ'},\n",
      "  {'base': 'ない', 'freq': 71, 'pos': '助動詞', 'pos1': '*', 'surface': 'なかっ'},\n",
      "  {'base': 'た', 'freq': 3975, 'pos': '助動詞', 'pos1': '*', 'surface': 'た'},\n",
      "  {'base': '。', 'freq': 7486, 'pos': '記号', 'pos1': '句点', 'surface': '。'}],\n",
      " [{'base': 'ただ', 'freq': 125, 'pos': '接続詞', 'pos1': '*', 'surface': 'ただ'},\n",
      "  {'base': '彼', 'freq': 134, 'pos': '名詞', 'pos1': '代名詞', 'surface': '彼'},\n",
      "  {'base': 'の', 'freq': 7032, 'pos': '助詞', 'pos1': '連体化', 'surface': 'の'},\n",
      "  {'base': '掌', 'freq': 3, 'pos': '名詞', 'pos1': '一般', 'surface': '掌'},\n",
      "  {'base': 'に', 'freq': 5470, 'pos': '助詞', 'pos1': '格助詞', 'surface': 'に'},\n",
      "  {'base': '載せる', 'freq': 1, 'pos': '動詞', 'pos1': '自立', 'surface': '載せ'},\n",
      "  {'base': 'られる', 'freq': 91, 'pos': '動詞', 'pos1': '接尾', 'surface': 'られ'},\n",
      "  {'base': 'て', 'freq': 6812, 'pos': '助詞', 'pos1': '接続助詞', 'surface': 'て'},\n",
      "  {'base': 'スー', 'freq': 2, 'pos': '名詞', 'pos1': '固有名詞', 'surface': 'スー'},\n",
      "  {'base': 'と', 'freq': 3544, 'pos': '助詞', 'pos1': '格助詞', 'surface': 'と'},\n",
      "  {'base': '持ち上げる', 'freq': 1, 'pos': '動詞', 'pos1': '自立', 'surface': '持ち上げ'},\n",
      "  {'base': 'られる', 'freq': 91, 'pos': '動詞', 'pos1': '接尾', 'surface': 'られ'},\n",
      "  {'base': 'た', 'freq': 3975, 'pos': '助動詞', 'pos1': '*', 'surface': 'た'},\n",
      "  {'base': '時', 'freq': 283, 'pos': '名詞', 'pos1': '非自立', 'surface': '時'},\n",
      "  {'base': '何だか', 'freq': 70, 'pos': '副詞', 'pos1': '一般', 'surface': '何だか'},\n",
      "  {'base': 'フワフワ', 'freq': 1, 'pos': '副詞', 'pos1': '助詞類接続', 'surface': 'フワフワ'},\n",
      "  {'base': 'する', 'freq': 2049, 'pos': '動詞', 'pos1': '自立', 'surface': 'し'},\n",
      "  {'base': 'た', 'freq': 3975, 'pos': '助動詞', 'pos1': '*', 'surface': 'た'},\n",
      "  {'base': '感じ', 'freq': 27, 'pos': '名詞', 'pos1': '一般', 'surface': '感じ'},\n",
      "  {'base': 'が', 'freq': 4196, 'pos': '助詞', 'pos1': '格助詞', 'surface': 'が'},\n",
      "  {'base': 'ある', 'freq': 131, 'pos': '動詞', 'pos1': '自立', 'surface': 'あっ'},\n",
      "  {'base': 'た', 'freq': 3975, 'pos': '助動詞', 'pos1': '*', 'surface': 'た'},\n",
      "  {'base': 'ばかり', 'freq': 231, 'pos': '助詞', 'pos1': '副助詞', 'surface': 'ばかり'},\n",
      "  {'base': 'だ', 'freq': 1719, 'pos': '助動詞', 'pos1': '*', 'surface': 'で'},\n",
      "  {'base': 'ある', 'freq': 995, 'pos': '助動詞', 'pos1': '*', 'surface': 'ある'},\n",
      "  {'base': '。', 'freq': 7486, 'pos': '記号', 'pos1': '句点', 'surface': '。'}]]\n"
     ]
    }
   ],
   "source": [
    "%run -i c4p30.py"
   ]
  },
  {
   "cell_type": "code",
   "execution_count": 27,
   "metadata": {},
   "outputs": [
    {
     "name": "stdout",
     "output_type": "stream",
     "text": [
      "生れる\n",
      "つく\n",
      "する\n",
      "泣く\n",
      "する\n",
      "いる\n",
      "始める\n",
      "見る\n",
      "聞く\n",
      "捕える\n"
     ]
    }
   ],
   "source": [
    "%run -i c4p31.py"
   ]
  },
  {
   "cell_type": "code",
   "execution_count": 28,
   "metadata": {},
   "outputs": [
    {
     "name": "stdout",
     "output_type": "stream",
     "text": [
      "生れる\n",
      "つく\n",
      "する\n",
      "泣く\n",
      "する\n",
      "いる\n",
      "始める\n",
      "見る\n",
      "聞く\n",
      "捕える\n"
     ]
    }
   ],
   "source": [
    "%run -i c4p32.py"
   ]
  },
  {
   "cell_type": "code",
   "execution_count": 29,
   "metadata": {},
   "outputs": [
    {
     "name": "stdout",
     "output_type": "stream",
     "text": [
      "見当\n",
      "記憶\n",
      "話\n",
      "装飾\n",
      "突起\n",
      "運転\n",
      "記憶\n",
      "分別\n",
      "決心\n",
      "我慢\n"
     ]
    }
   ],
   "source": [
    "%run -i c4p33.py"
   ]
  },
  {
   "cell_type": "code",
   "execution_count": 30,
   "metadata": {},
   "outputs": [
    {
     "name": "stdout",
     "output_type": "stream",
     "text": [
      "彼の掌\n",
      "掌の上\n",
      "書生の顔\n",
      "はずの顔\n",
      "顔の真中\n",
      "穴の中\n",
      "書生の掌\n",
      "掌の裏\n",
      "何の事\n",
      "肝心の母親\n"
     ]
    }
   ],
   "source": [
    "%run -i c4p34.py"
   ]
  },
  {
   "cell_type": "code",
   "execution_count": 31,
   "metadata": {},
   "outputs": [
    {
     "name": "stdout",
     "output_type": "stream",
     "text": [
      "人間中\n",
      "一番獰悪\n",
      "時妙\n",
      "一毛\n",
      "その後猫\n",
      "一度\n",
      "ぷうぷうと煙\n",
      "邸内\n",
      "三毛\n",
      "書生以外\n"
     ]
    }
   ],
   "source": [
    "%run -i c4p35.py"
   ]
  },
  {
   "cell_type": "code",
   "execution_count": 32,
   "metadata": {},
   "outputs": [
    {
     "name": "stdout",
     "output_type": "stream",
     "text": [
      "[('の', 9194),\n",
      " ('。', 7486),\n",
      " ('て', 6868),\n",
      " ('、', 6772),\n",
      " ('は', 6420),\n",
      " ('に', 6243),\n",
      " ('を', 6071),\n",
      " ('と', 5508),\n",
      " ('が', 5337),\n",
      " ('た', 3988)]\n"
     ]
    }
   ],
   "source": [
    "%run -i c4p36.py"
   ]
  },
  {
   "cell_type": "code",
   "execution_count": 38,
   "metadata": {},
   "outputs": [
    {
     "data": {
      "image/png": "[encoded data removed]",
      "text/plain": [
       "<matplotlib.figure.Figure at 0x1098d3160>"
      ]
     },
     "metadata": {},
     "output_type": "display_data"
    }
   ],
   "source": [
    "%run -i c4p37.py"
   ]
  },
  {
   "cell_type": "code",
   "execution_count": 39,
   "metadata": {},
   "outputs": [
    {
     "data": {
      "image/png": "[encoded data removed]",
      "text/plain": [
       "<matplotlib.figure.Figure at 0x110141978>"
      ]
     },
     "metadata": {},
     "output_type": "display_data"
    }
   ],
   "source": [
    "%run -i c4p38.py"
   ]
  },
  {
   "cell_type": "code",
   "execution_count": 37,
   "metadata": {},
   "outputs": [
    {
     "data": {
      "image/png": "[encoded data removed]",
      "text/plain": [
       "<matplotlib.figure.Figure at 0x109d5add8>"
      ]
     },
     "metadata": {},
     "output_type": "display_data"
    }
   ],
   "source": [
    "%run -i c4p39.py"
   ]
  },
  {
   "cell_type": "code",
   "execution_count": null,
   "metadata": {
    "collapsed": true
   },
   "outputs": [],
   "source": []
  }
 ],
 "metadata": {
  "kernelspec": {
   "display_name": "Python 3",
   "language": "python",
   "name": "python3"
  },
  "language_info": {
   "codemirror_mode": {
    "name": "ipython",
    "version": 3
   },
   "file_extension": ".py",
   "mimetype": "text/x-python",
   "name": "python",
   "nbconvert_exporter": "python",
   "pygments_lexer": "ipython3",
   "version": "3.6.0"
  }
 },
 "nbformat": 4,
 "nbformat_minor": 2
}
