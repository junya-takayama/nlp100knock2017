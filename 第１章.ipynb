{
 "cells": [
  {
   "cell_type": "code",
   "execution_count": 33,
   "metadata": {},
   "outputs": [
    {
     "name": "stdout",
     "output_type": "stream",
     "text": [
      "desserts\n"
     ]
    }
   ],
   "source": [
    "%run -i c1p00.py"
   ]
  },
  {
   "cell_type": "code",
   "execution_count": 34,
   "metadata": {},
   "outputs": [
    {
     "name": "stdout",
     "output_type": "stream",
     "text": [
      "パトカー\n"
     ]
    }
   ],
   "source": [
    "%run -i c1p01.py"
   ]
  },
  {
   "cell_type": "code",
   "execution_count": 35,
   "metadata": {},
   "outputs": [
    {
     "name": "stdout",
     "output_type": "stream",
     "text": [
      "パタトクカシーー\n"
     ]
    }
   ],
   "source": [
    "%run -i c1p02.py"
   ]
  },
  {
   "cell_type": "code",
   "execution_count": 36,
   "metadata": {},
   "outputs": [
    {
     "name": "stdout",
     "output_type": "stream",
     "text": [
      "[3, 1, 4, 1, 5, 9, 2, 6, 5, 3, 5, 8, 9, 7, 9]\n"
     ]
    }
   ],
   "source": [
    "%run -i c1p03.py"
   ]
  },
  {
   "cell_type": "code",
   "execution_count": 37,
   "metadata": {},
   "outputs": [
    {
     "name": "stdout",
     "output_type": "stream",
     "text": [
      "OrderedDict([('H', 0), ('He', 1), ('Li', 2), ('Be', 3), ('B', 4), ('C', 5), ('N', 6), ('O', 7), ('F', 8), ('Ne', 9), ('Na', 10), ('Mi', 11), ('Al', 12), ('Si', 13), ('P', 14), ('S', 15), ('Cl', 16), ('Ar', 17), ('K', 18), ('Ca', 19)])\n"
     ]
    }
   ],
   "source": [
    "%run -i c1p04.py"
   ]
  },
  {
   "cell_type": "code",
   "execution_count": 38,
   "metadata": {
    "scrolled": true
   },
   "outputs": [
    {
     "name": "stdout",
     "output_type": "stream",
     "text": [
      "単語bigram : [['I', 'am'], ['am', 'a'], ['a', 'NLPer']]\n",
      "文字bigram : ['Ia', 'am', 'ma', 'aN', 'NL', 'LP', 'Pe', 'er']\n"
     ]
    }
   ],
   "source": [
    "%run -i c1p05.py"
   ]
  },
  {
   "cell_type": "code",
   "execution_count": 39,
   "metadata": {},
   "outputs": [
    {
     "name": "stdout",
     "output_type": "stream",
     "text": [
      "和集合: {'ap', 'ag', 'di', 'ph', 'ra', 'pa', 'ad', 'se', 'ar', 'gr', 'is'}\n",
      "積集合: {'ar', 'ap', 'pa', 'ra'}\n",
      "差集合: {'se', 'di', 'ad', 'is'}\n",
      "\"se\" in X: True\n",
      "\"se\" in Y: False\n"
     ]
    }
   ],
   "source": [
    "%run -i c1p06.py"
   ]
  },
  {
   "cell_type": "code",
   "execution_count": 40,
   "metadata": {},
   "outputs": [
    {
     "name": "stdout",
     "output_type": "stream",
     "text": [
      "12時の気温は22.4\n"
     ]
    }
   ],
   "source": [
    "%run -i c1p07.py"
   ]
  },
  {
   "cell_type": "code",
   "execution_count": 41,
   "metadata": {},
   "outputs": [
    {
     "name": "stdout",
     "output_type": "stream",
     "text": [
      "input: I am a NLPer.\n",
      "ciphered  :  I zn z NLPvi.\n",
      "deciphered:  I am a NLPer.\n"
     ]
    }
   ],
   "source": [
    "%run -i c1p08.py"
   ]
  },
  {
   "cell_type": "code",
   "execution_count": 42,
   "metadata": {},
   "outputs": [
    {
     "name": "stdout",
     "output_type": "stream",
     "text": [
      "I coun'ldt bveelie that I culod autlcaly usrnnadted what I was rndaeig : the pmonneehal power of the human mind .\n"
     ]
    }
   ],
   "source": [
    "%run -i c1p09.py"
   ]
  },
  {
   "cell_type": "code",
   "execution_count": null,
   "metadata": {
    "collapsed": true
   },
   "outputs": [],
   "source": []
  }
 ],
 "metadata": {
  "kernelspec": {
   "display_name": "Python 3",
   "language": "python",
   "name": "python3"
  },
  "language_info": {
   "codemirror_mode": {
    "name": "ipython",
    "version": 3
   },
   "file_extension": ".py",
   "mimetype": "text/x-python",
   "name": "python",
   "nbconvert_exporter": "python",
   "pygments_lexer": "ipython3",
   "version": "3.6.0"
  }
 },
 "nbformat": 4,
 "nbformat_minor": 2
}
